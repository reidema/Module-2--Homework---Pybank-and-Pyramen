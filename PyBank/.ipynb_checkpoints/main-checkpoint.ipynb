{
 "cells": [
  {
   "cell_type": "code",
   "execution_count": 59,
   "id": "2040f396-1559-451a-91bf-eaa65c0862e6",
   "metadata": {},
   "outputs": [],
   "source": [
    "##initial imports##\n",
    "\n",
    "from pathlib import Path\n",
    "import csv"
   ]
  },
  {
   "cell_type": "code",
   "execution_count": 60,
   "id": "a3fd1c00-74da-4e56-8bb0-9f59c260d86f",
   "metadata": {},
   "outputs": [],
   "source": [
    "budget_data = Path(r\"C:\\Users\\reide\\Downloads\\budget_data.csv\")"
   ]
  },
  {
   "cell_type": "code",
   "execution_count": 61,
   "id": "b48acaf5-24bc-4764-859a-824ced29ce03",
   "metadata": {},
   "outputs": [
    {
     "data": {
      "text/plain": [
       "WindowsPath('C:/Users/reide/Downloads/budget_data.csv')"
      ]
     },
     "execution_count": 61,
     "metadata": {},
     "output_type": "execute_result"
    }
   ],
   "source": [
    "budget_data"
   ]
  },
  {
   "cell_type": "code",
   "execution_count": 62,
   "id": "67454da2-780d-4bd6-8d19-b9e7a9614977",
   "metadata": {},
   "outputs": [],
   "source": [
    "##creating initial lists for calculations##\n",
    "\n",
    "Profit_Loss = []\n",
    "change_in_profit = []"
   ]
  },
  {
   "cell_type": "code",
   "execution_count": 63,
   "id": "fca58f64-5956-402a-92fc-7f508fc36ca9",
   "metadata": {},
   "outputs": [],
   "source": [
    "##setting the initial count, total and previous total for calculations##\n",
    "\n",
    "count = 0\n",
    "total = 0\n",
    "previous_total = 0"
   ]
  },
  {
   "cell_type": "code",
   "execution_count": 64,
   "id": "42ed20ea-d25e-4adb-bf50-8442312a3c89",
   "metadata": {},
   "outputs": [],
   "source": [
    "line_num = 0"
   ]
  },
  {
   "cell_type": "code",
   "execution_count": 65,
   "id": "976a4c44-ac5b-4b33-bfe3-01772df18592",
   "metadata": {},
   "outputs": [
    {
     "name": "stdout",
     "output_type": "stream",
     "text": [
      "['Date', 'Profit/Losses']\n",
      "['Jan-2010', '867884']\n",
      "['Feb-2010', '984655']\n",
      "['Mar-2010', '322013']\n",
      "['Apr-2010', '-69417']\n",
      "['May-2010', '310503']\n",
      "['Jun-2010', '522857']\n",
      "['Jul-2010', '1033096']\n",
      "['Aug-2010', '604885']\n",
      "['Sep-2010', '-216386']\n",
      "['Oct-2010', '477532']\n",
      "['Nov-2010', '893810']\n",
      "['Dec-2010', '-80353']\n",
      "['Jan-2011', '779806']\n",
      "['Feb-2011', '-335203']\n",
      "['Mar-2011', '697845']\n",
      "['Apr-2011', '793163']\n",
      "['May-2011', '485070']\n",
      "['Jun-2011', '584122']\n",
      "['Jul-2011', '62729']\n",
      "['Aug-2011', '668179']\n",
      "['Sep-2011', '899906']\n",
      "['Oct-2011', '834719']\n",
      "['Nov-2011', '132003']\n",
      "['Dec-2011', '309978']\n",
      "['Jan-2012', '-755566']\n",
      "['Feb-2012', '1170593']\n",
      "['Mar-2012', '252788']\n",
      "['Apr-2012', '1151518']\n",
      "['May-2012', '817256']\n",
      "['Jun-2012', '570757']\n",
      "['Jul-2012', '506702']\n",
      "['Aug-2012', '-1022534']\n",
      "['Sep-2012', '475062']\n",
      "['Oct-2012', '779976']\n",
      "['Nov-2012', '144175']\n",
      "['Dec-2012', '542494']\n",
      "['Jan-2013', '359333']\n",
      "['Feb-2013', '321469']\n",
      "['Mar-2013', '67780']\n",
      "['Apr-2013', '471435']\n",
      "['May-2013', '565603']\n",
      "['Jun-2013', '872480']\n",
      "['Jul-2013', '789480']\n",
      "['Aug-2013', '999942']\n",
      "['Sep-2013', '-1196225']\n",
      "['Oct-2013', '268997']\n",
      "['Nov-2013', '-687986']\n",
      "['Dec-2013', '1150461']\n",
      "['Jan-2014', '682458']\n",
      "['Feb-2014', '617856']\n",
      "['Mar-2014', '824098']\n",
      "['Apr-2014', '581943']\n",
      "['May-2014', '132864']\n",
      "['Jun-2014', '448062']\n",
      "['Jul-2014', '689161']\n",
      "['Aug-2014', '800701']\n",
      "['Sep-2014', '1166643']\n",
      "['Oct-2014', '947333']\n",
      "['Nov-2014', '578668']\n",
      "['Dec-2014', '988505']\n",
      "['Jan-2015', '1139715']\n",
      "['Feb-2015', '1029471']\n",
      "['Mar-2015', '687533']\n",
      "['Apr-2015', '-524626']\n",
      "['May-2015', '158620']\n",
      "['Jun-2015', '87795']\n",
      "['Jul-2015', '423389']\n",
      "['Aug-2015', '840723']\n",
      "['Sep-2015', '568529']\n",
      "['Oct-2015', '332067']\n",
      "['Nov-2015', '989499']\n",
      "['Dec-2015', '778237']\n",
      "['Jan-2016', '650000']\n",
      "['Feb-2016', '-1100387']\n",
      "['Mar-2016', '-174946']\n",
      "['Apr-2016', '757143']\n",
      "['May-2016', '445709']\n",
      "['Jun-2016', '712961']\n",
      "['Jul-2016', '-1163797']\n",
      "['Aug-2016', '569899']\n",
      "['Sep-2016', '768450']\n",
      "['Oct-2016', '102685']\n",
      "['Nov-2016', '795914']\n",
      "['Dec-2016', '60988']\n",
      "['Jan-2017', '138230']\n",
      "['Feb-2017', '671099']\n"
     ]
    }
   ],
   "source": [
    "##Reading the budget data##\n",
    "##Calculating the change in profit/loss per line in and subtracting it from the previous amount to calculate the change in profit##\n",
    "\n",
    "with open(budget_data, 'r') as csvfile:\n",
    "    csvreader = csv.reader(csvfile, delimiter =',')\n",
    "    \n",
    "    csv_header = next(csvreader)\n",
    "    line_num += 1\n",
    " \n",
    "    print(csv_header)\n",
    "    \n",
    "    for row in csvreader:\n",
    "        per_line_change = int(row[1]) - previous_total\n",
    "        previous_total = int(row[1])\n",
    "        change_in_profit = change_in_profit + [per_line_change]\n",
    "        \n",
    "        print(row)\n",
    "        \n",
    "        profit_loss = int(row[1])\n",
    "        \n",
    "        Profit_Loss.append(profit_loss)"
   ]
  },
  {
   "cell_type": "code",
   "execution_count": 66,
   "id": "c648ae0b-d200-420f-8ee7-b0964eb3255d",
   "metadata": {},
   "outputs": [],
   "source": [
    "##calculating the total number of months in the data set and the total amount of profit/loss##\n",
    "\n",
    "for profit_loss in Profit_Loss:\n",
    "    total += profit_loss\n",
    "    count += 1"
   ]
  },
  {
   "cell_type": "markdown",
   "id": "08a7438c-7056-4f3f-9fb8-1846e8ae6545",
   "metadata": {},
   "source": []
  },
  {
   "cell_type": "code",
   "execution_count": 67,
   "id": "efb42780-3f47-4736-8231-b24cdfcc3106",
   "metadata": {},
   "outputs": [],
   "source": [
    "##calculating the total of the changes in profit/loss using sum##\n",
    "\n",
    "total_change_in_profit = sum(change_in_profit)"
   ]
  },
  {
   "cell_type": "code",
   "execution_count": 68,
   "id": "251b2ea1-0dee-40b7-9279-11079ee2d2af",
   "metadata": {},
   "outputs": [],
   "source": [
    "##used max to find the greatest increase in profit from change in profits##\n",
    "\n",
    "greatest_increase_in_profit = max(change_in_profit)"
   ]
  },
  {
   "cell_type": "code",
   "execution_count": 69,
   "id": "80d7ec2a-6491-4d16-9056-6243ba56c1c6",
   "metadata": {},
   "outputs": [],
   "source": [
    "##used min to find the greatest increase in profit from change in profits##\n",
    "\n",
    "greatest_decrease_in_profit = min(change_in_profit)"
   ]
  },
  {
   "cell_type": "code",
   "execution_count": 70,
   "id": "5c8e9e92-d704-4a64-b954-8ee6985a7ff1",
   "metadata": {},
   "outputs": [],
   "source": [
    "##calculated the average change in profit by dividing total change by the number of months subtracting 1 as changes will occur 1 less unit than the whole set##\n",
    "\n",
    "average = total_change_in_profit/(count-1)"
   ]
  },
  {
   "cell_type": "code",
   "execution_count": 71,
   "id": "787b2244-b401-4717-b1e4-42e46e14c59f",
   "metadata": {},
   "outputs": [
    {
     "name": "stdout",
     "output_type": "stream",
     "text": [
      "-----Financial Analysis-----\n",
      "total_months:86\n",
      "total: 38382578\n",
      "average_change: 7895.282352941176\n",
      "greatest_increase_in_profit: 1926159\n",
      "greatest_decrease_in_losses: -2196167\n"
     ]
    }
   ],
   "source": [
    "##printing out all of the results from the analysis##\n",
    "\n",
    "print(\"-----Financial Analysis-----\")\n",
    "print(f\"total_months:{count}\")\n",
    "print(f\"total: {total}\")\n",
    "print(f\"average_change: {average}\")\n",
    "print(f\"greatest_increase_in_profit: {greatest_increase_in_profit}\") \n",
    "print(f\"greatest_decrease_in_losses: {greatest_decrease_in_profit}\")"
   ]
  },
  {
   "cell_type": "code",
   "execution_count": 72,
   "id": "d4495b32-2b18-4f63-ae29-8f000794e5f7",
   "metadata": {},
   "outputs": [],
   "source": [
    "##setting path to put into output text##\n",
    "\n",
    "output_path = Path(\"output_of_analysis.txt\")"
   ]
  },
  {
   "cell_type": "code",
   "execution_count": 74,
   "id": "000575f3-42be-4dc0-b119-569fc3156915",
   "metadata": {},
   "outputs": [],
   "source": [
    "##opening the output text of the analysis##\n",
    "\n",
    "with open(output_path, \"w\") as file:\n",
    "    file.write(\"-----Financial Analysis-----\\n\")\n",
    "    file.write(f\"total_months:{count}\\n\")\n",
    "    file.write(f\"total: {total}\\n\")\n",
    "    file.write(f\"average_change: {average}\\n\")\n",
    "    file.write(f\"greatest_increase_in_profit: {greatest_increase_in_profit}\\n\")\n",
    "    file.write(f\"greatest_decrease_in_losses: {greatest_decrease_in_profit}\\n\")\n",
    "    "
   ]
  },
  {
   "cell_type": "code",
   "execution_count": null,
   "id": "f0b947b0-922e-4164-b028-cb74b7e372db",
   "metadata": {},
   "outputs": [],
   "source": []
  }
 ],
 "metadata": {
  "kernelspec": {
   "display_name": "Python 3 (ipykernel)",
   "language": "python",
   "name": "python3"
  },
  "language_info": {
   "codemirror_mode": {
    "name": "ipython",
    "version": 3
   },
   "file_extension": ".py",
   "mimetype": "text/x-python",
   "name": "python",
   "nbconvert_exporter": "python",
   "pygments_lexer": "ipython3",
   "version": "3.9.13"
  }
 },
 "nbformat": 4,
 "nbformat_minor": 5
}
