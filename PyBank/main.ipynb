{
 "cells": [
  {
   "cell_type": "code",
   "execution_count": 2,
   "id": "2040f396-1559-451a-91bf-eaa65c0862e6",
   "metadata": {},
   "outputs": [],
   "source": [
    "from pathlib import Path\n",
    "import csv"
   ]
  },
  {
   "cell_type": "code",
   "execution_count": 3,
   "id": "a3fd1c00-74da-4e56-8bb0-9f59c260d86f",
   "metadata": {},
   "outputs": [],
   "source": [
    "budget_data = Path(r\"C:\\Users\\reide\\Downloads\\budget_data.csv\")"
   ]
  },
  {
   "cell_type": "code",
   "execution_count": 4,
   "id": "b48acaf5-24bc-4764-859a-824ced29ce03",
   "metadata": {},
   "outputs": [
    {
     "data": {
      "text/plain": [
       "WindowsPath('C:/Users/reide/Downloads/budget_data.csv')"
      ]
     },
     "execution_count": 4,
     "metadata": {},
     "output_type": "execute_result"
    }
   ],
   "source": [
    "budget_data"
   ]
  },
  {
   "cell_type": "code",
   "execution_count": 5,
   "id": "976a4c44-ac5b-4b33-bfe3-01772df18592",
   "metadata": {},
   "outputs": [],
   "source": [
    "with open(budget_data, 'r') as csvfile:\n",
    "    csvreader = csv.reader(csvfile, delimiter =',')"
   ]
  },
  {
   "cell_type": "code",
   "execution_count": null,
   "id": "54fcb439-eaf0-4833-b29c-9915a0829b0f",
   "metadata": {},
   "outputs": [],
   "source": []
  },
  {
   "cell_type": "code",
   "execution_count": null,
   "id": "77c4aaa4-5533-4cc2-9388-0dad3c6083c6",
   "metadata": {},
   "outputs": [],
   "source": []
  }
 ],
 "metadata": {
  "kernelspec": {
   "display_name": "Python 3 (ipykernel)",
   "language": "python",
   "name": "python3"
  },
  "language_info": {
   "codemirror_mode": {
    "name": "ipython",
    "version": 3
   },
   "file_extension": ".py",
   "mimetype": "text/x-python",
   "name": "python",
   "nbconvert_exporter": "python",
   "pygments_lexer": "ipython3",
   "version": "3.9.13"
  }
 },
 "nbformat": 4,
 "nbformat_minor": 5
}
