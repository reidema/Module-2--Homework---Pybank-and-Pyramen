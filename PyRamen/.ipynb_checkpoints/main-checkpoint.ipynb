{
 "cells": [
  {
   "cell_type": "code",
   "execution_count": 10,
   "id": "d0f6a50a-d055-4ac9-a856-55afb41951f9",
   "metadata": {},
   "outputs": [],
   "source": [
    "# -*- coding: UTF-8 -*-\n",
    "\"\"\"PyRamen Homework Starter.\"\"\"\n",
    "\n",
    "# @TODO: Import libraries\n",
    "import csv\n",
    "from pathlib import Path"
   ]
  },
  {
   "cell_type": "code",
   "execution_count": 11,
   "id": "01239a15-4999-4e57-a05b-f55dbdc381ee",
   "metadata": {},
   "outputs": [],
   "source": [
    "# @TODO: Set file paths for menu_data.csv and sales_data.csv\n",
    "menu_filepath = Path(r\"C:\\Users\\reide\\Downloads\\Module-2--Homework---Pybank-and-Pyramen\\PyRamen\\Resources\\menu_data.csv\")\n",
    "sales_filepath = Path(r'C:\\Users\\reide\\Downloads\\Module-2--Homework---Pybank-and-Pyramen\\PyRamen\\Resources\\sales_data.csv')"
   ]
  },
  {
   "cell_type": "code",
   "execution_count": 12,
   "id": "d1eb485e-ab7c-4b38-9bb7-1366397b074b",
   "metadata": {},
   "outputs": [],
   "source": [
    "# @TODO: Initialize list objects to hold our menu and sales data\n",
    "menu = []\n",
    "sales = []"
   ]
  },
  {
   "cell_type": "code",
   "execution_count": 13,
   "id": "0e0be266-c2bc-42b6-b414-5b82f051c106",
   "metadata": {},
   "outputs": [
    {
     "name": "stdout",
     "output_type": "stream",
     "text": [
      "['item', 'category', 'description', 'price', 'cost']\n"
     ]
    }
   ],
   "source": [
    "# @TODO: Read in the menu data into the menu list\n",
    "line_num = 0\n",
    "with open (menu_filepath, 'r') as csvfile:\n",
    "    csvmenu_reader = csv.reader(csvfile)\n",
    "    \n",
    "    menu_header = next(csvmenu_reader)\n",
    "    line_num += 1\n",
    "    \n",
    "    print(menu_header)"
   ]
  },
  {
   "cell_type": "code",
   "execution_count": 14,
   "id": "73fcd553-280a-48d2-8cea-ffbb80bc88e2",
   "metadata": {},
   "outputs": [
    {
     "name": "stdout",
     "output_type": "stream",
     "text": [
      "['Line_Item_ID', 'Date', 'Credit_Card_Number', 'Quantity', 'Menu_Item']\n"
     ]
    }
   ],
   "source": [
    "# @TODO: Read in the sales data into the sales list\n",
    "line_num = 0\n",
    "with open (sales_filepath, 'r') as csvfile:\n",
    "    csvsales_reader = csv.reader(csvfile)\n",
    "    \n",
    "    sales_header = next(csvsales_reader)\n",
    "    line_num += 1\n",
    "    \n",
    "    print(sales_header)"
   ]
  },
  {
   "cell_type": "code",
   "execution_count": 15,
   "id": "f13860a3-ca2e-42cd-9454-e6076b47de9c",
   "metadata": {},
   "outputs": [],
   "source": [
    "# @TODO: Initialize dict object to hold our key-value pairs of items and metrics\n",
    "report = {}\n",
    "\n",
    "# Initialize a row counter variable\n",
    "row_count = 0"
   ]
  },
  {
   "cell_type": "code",
   "execution_count": 16,
   "id": "23fb9a30-3536-47d2-999e-d141ba766c7b",
   "metadata": {},
   "outputs": [
    {
     "ename": "SyntaxError",
     "evalue": "invalid syntax (704007633.py, line 22)",
     "output_type": "error",
     "traceback": [
      "\u001b[1;36m  File \u001b[1;32m\"C:\\Users\\reide\\AppData\\Local\\Temp\\ipykernel_55316\\704007633.py\"\u001b[1;36m, line \u001b[1;32m22\u001b[0m\n\u001b[1;33m    \"revenue\":0\u001b[0m\n\u001b[1;37m    ^\u001b[0m\n\u001b[1;31mSyntaxError\u001b[0m\u001b[1;31m:\u001b[0m invalid syntax\n"
     ]
    }
   ],
   "source": [
    "# @TODO: Loop over every row in the sales list object\n",
    "\n",
    "for row in csvsales_reader:\n",
    "\n",
    "    # Line_Item_ID,Date,Credit_Card_Number,Quantity,Menu_Item\n",
    "    # @TODO: Initialize sales data variables\n",
    "    \n",
    "    Line_Item_ID = int(row[0])\n",
    "    Date = int(row[1])\n",
    "    Credit_Card_Number = int(row[2])\n",
    "    Quantity = int(row[3])\n",
    "    Menu_Item = str(row[4])\n",
    "\n",
    "    \n",
    "    # @TODO:\n",
    "    # If the item value not in the report, add it as a new entry with initialized metrics\n",
    "    # Naming convention allows the keys to be ordered in logical fashion, count, revenue, cost, profit\n",
    "    \n",
    "    if item_value not in report.keys():\n",
    "        report[item] = {\n",
    "            \"count\":0\n",
    "            \"revenue\":0\n",
    "            \"cost\":0\n",
    "            \"profit\"0\n",
    "            \n",
    "            }\n",
    "\n",
    "\n",
    "    # @TODO: For every row in our sales data, loop over the menu records to determine a match\n",
    "            for row2 in csvmenu_reader:\n",
    "\n",
    "        # Item,Category,Description,Price,Cost\n",
    "        # @TODO: Initialize menu data variables\n",
    "        \n",
    "                Item = str(row2[0])\n",
    "                Category = str(row2[1])\n",
    "                Description = str(row2[2])\n",
    "                Price = int(row2[3])\n",
    "                Cost = int(row2[4])\n",
    "\n",
    "\n",
    "\n",
    "\n",
    "        # @TODO: Calculate profit of each item in the menu data\n",
    "        \n",
    "                    Profit = Quantity * ( Price - Cost)\n",
    "                \n",
    "\n",
    "\n",
    "        # @TODO: If the item value in our sales data is equal to the any of the items in the menu, then begin tracking metrics for that item\n",
    "                        if item_value == item:\n",
    "    \n",
    "            # @TODO: Print out matching menu data\n",
    "\n",
    "            # @TODO: Cumulatively add up the metrics for each item key\n",
    "            \n",
    "                            report[item_value][\"01-count\"] += Quantity\n",
    "                            report[item_value][\"02-revenue\"] += Price * Quantity\n",
    "                            report[item_value][\"03-cost\"] += Cost * Quantity\n",
    "                            report[item_value][\"04-profit\"] += Profit * Quantity\n",
    "\n",
    "\n",
    "\n",
    "        # @TODO: Else, the sales item does not equal any fo the item in the menu data, therefore no match\n",
    "        \n",
    "                                else:\n",
    "                                    print(\"{item_value}\" does not equal \"{item}! NO MATCH!\")\n",
    "            \n",
    "    # @TODO: Increment the row counter by 1\n",
    "\n",
    "row_count += 1\n",
    "\n",
    "# @TODO: Print total number of records in sales data\n",
    "\n",
    "print(csvsales_reader)\n",
    "\n",
    "\n",
    "# @TODO: Write out report to a text file (won't appear on the command line output)\n",
    "output_path = Path(\"output_pyramen.txt\")"
   ]
  },
  {
   "cell_type": "code",
   "execution_count": 17,
   "id": "d1c8c34e-1433-4014-9446-0901e17e3a47",
   "metadata": {},
   "outputs": [
    {
     "ename": "NameError",
     "evalue": "name 'output_path' is not defined",
     "output_type": "error",
     "traceback": [
      "\u001b[1;31m---------------------------------------------------------------------------\u001b[0m",
      "\u001b[1;31mNameError\u001b[0m                                 Traceback (most recent call last)",
      "\u001b[1;32m~\\AppData\\Local\\Temp\\ipykernel_55316\\1469119785.py\u001b[0m in \u001b[0;36m<module>\u001b[1;34m\u001b[0m\n\u001b[1;32m----> 1\u001b[1;33m \u001b[1;32mwith\u001b[0m \u001b[0mopen\u001b[0m\u001b[1;33m(\u001b[0m\u001b[0moutput_path\u001b[0m\u001b[1;33m,\u001b[0m \u001b[1;34m\"w\"\u001b[0m\u001b[1;33m)\u001b[0m \u001b[1;32mas\u001b[0m \u001b[0mfile\u001b[0m\u001b[1;33m:\u001b[0m\u001b[1;33m\u001b[0m\u001b[1;33m\u001b[0m\u001b[0m\n\u001b[0m\u001b[0;32m      2\u001b[0m     \u001b[0mfile\u001b[0m\u001b[1;33m.\u001b[0m\u001b[0mwrite\u001b[0m\u001b[1;33m(\u001b[0m\u001b[0mreport\u001b[0m\u001b[1;33m)\u001b[0m\u001b[1;33m\u001b[0m\u001b[1;33m\u001b[0m\u001b[0m\n",
      "\u001b[1;31mNameError\u001b[0m: name 'output_path' is not defined"
     ]
    }
   ],
   "source": [
    "with open(output_path, \"w\") as file:\n",
    "    file.write(report)"
   ]
  },
  {
   "cell_type": "code",
   "execution_count": null,
   "id": "2b473462-448f-40e9-a376-b3598421ca65",
   "metadata": {},
   "outputs": [],
   "source": []
  }
 ],
 "metadata": {
  "kernelspec": {
   "display_name": "Python 3 (ipykernel)",
   "language": "python",
   "name": "python3"
  },
  "language_info": {
   "codemirror_mode": {
    "name": "ipython",
    "version": 3
   },
   "file_extension": ".py",
   "mimetype": "text/x-python",
   "name": "python",
   "nbconvert_exporter": "python",
   "pygments_lexer": "ipython3",
   "version": "3.9.13"
  }
 },
 "nbformat": 4,
 "nbformat_minor": 5
}
